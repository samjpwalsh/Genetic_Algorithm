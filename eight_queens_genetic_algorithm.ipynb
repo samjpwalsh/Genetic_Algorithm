{
 "cells": [
  {
   "cell_type": "markdown",
   "id": "aaed0ecf",
   "metadata": {},
   "source": [
    "# Solving the Eight-Queen problem using Genetic Algorithms"
   ]
  },
  {
   "cell_type": "markdown",
   "id": "967f8291",
   "metadata": {},
   "source": [
    "_Assignment for the University of Bath as part of MSc in Artificial Intelligence_ "
   ]
  },
  {
   "cell_type": "markdown",
   "id": "999e4c85",
   "metadata": {},
   "source": [
    "## Eight-Queen Genetic Algorithm"
   ]
  },
  {
   "cell_type": "markdown",
   "id": "974a05ea",
   "metadata": {},
   "source": [
    "### Problem set up"
   ]
  },
  {
   "cell_type": "code",
   "execution_count": 1,
   "id": "0ec028e8",
   "metadata": {},
   "outputs": [],
   "source": [
    "import numpy as np\n",
    "import random\n",
    "import pandas as pd\n",
    "import matplotlib.pyplot as plt\n",
    "import timeit"
   ]
  },
  {
   "cell_type": "code",
   "execution_count": 2,
   "id": "d9d50173",
   "metadata": {},
   "outputs": [],
   "source": [
    "class EightQueensState:\n",
    "\n",
    "    \"\"\"This class represents a board in the eight queens puzzle\"\"\"\n",
    "\n",
    "    def __init__(self, state=None, n=8):\n",
    "        \"\"\"\n",
    "        :param state: pass in a numpy array of integers to set the state, otherwise will be generated randomly\n",
    "        :param n: only used if state is not provided, determines size of board (default: 8)\n",
    "        \"\"\"\n",
    "        if state is None:\n",
    "            self.n = n\n",
    "            state = np.random.randint(0, n, n)\n",
    "        else:\n",
    "            self.n = len(state)\n",
    "        self.state = state\n",
    "\n",
    "    @staticmethod\n",
    "    def copy_replace(state, i, x):\n",
    "        \"\"\"This creates a copy of the state (important as numpy arrays are mutable) with column i set to x\"\"\"\n",
    "        new_state = state.copy()\n",
    "        new_state[i] = x\n",
    "        return new_state\n",
    "\n",
    "    @staticmethod\n",
    "    def range_missing(start, stop, missing):\n",
    "        \"\"\"\n",
    "        This creates a list of numbers with a single value missing\n",
    "        e.g. range_missing(0, 8, 2) -> [0, 1, 3, 4, 5, 6, 7]\n",
    "        \"\"\"\n",
    "        return list(range(start, missing)) + list(range(missing + 1, stop))\n",
    "\n",
    "    def cost(self):\n",
    "        \"\"\"Calculates the number of pairs attacking\"\"\"\n",
    "        count = 0\n",
    "        for i in range(len(self.state) - 1):\n",
    "            # for each queen, look in columns to the right\n",
    "            # add one to the count if there is another queen in the same row\n",
    "            # a pair of attacking queens only adds one to the count, not 2 as per Lesson 2 notes\n",
    "            count += (self.state[i] == np.array(self.state[i + 1:])).sum()\n",
    "\n",
    "            # add one to the count for each queen on the upper or lower diagonal\n",
    "            upper_diagonal = self.state[i] + np.arange(1, self.n - i)\n",
    "            lower_diagonal = self.state[i] - np.arange(1, self.n - i)\n",
    "            count += (np.array(self.state[i + 1:]) == upper_diagonal).sum()\n",
    "            count += (np.array(self.state[i + 1:]) == lower_diagonal).sum()\n",
    "        return count\n",
    "\n",
    "    def neighbourhood(self):\n",
    "        \"\"\"This generates every state possible by changing a single queen position\"\"\"\n",
    "        neighbourhood = []\n",
    "        for column in range(self.n):\n",
    "            for new_position in self.range_missing(0, self.n, self.state[column]):\n",
    "                new_state = self.copy_replace(self.state, column, new_position)\n",
    "                neighbourhood.append(EightQueensState(new_state))\n",
    "\n",
    "        return neighbourhood\n",
    "\n",
    "    def random_neighbour(self):\n",
    "        \"\"\"Generates a single random neighbour state, useful for some algorithms\"\"\"\n",
    "        column = np.random.choice(range(self.n))\n",
    "        new_position = np.random.choice(self.range_missing(0, self.n, self.state[column]))\n",
    "        new_state = self.copy_replace(self.state, column, new_position)\n",
    "        return EightQueensState(new_state)\n",
    "\n",
    "    def is_goal(self):\n",
    "        return self.cost() == 0\n",
    "\n",
    "    def __str__(self):\n",
    "        return self.state"
   ]
  },
  {
   "cell_type": "markdown",
   "id": "b7dd18eb",
   "metadata": {},
   "source": [
    "### Genetic Algorithm class set up\n",
    "\n",
    "This class defines the methods which a genetic algorithm applies, including parent selection (based on fitness), crossover and mutation. Population size and mutation rate are variable inputs, set to 10 and 5% initially. The number of queens is also variable but is set to 8 for the initial task."
   ]
  },
  {
   "cell_type": "code",
   "execution_count": 3,
   "id": "83e04f1c",
   "metadata": {},
   "outputs": [],
   "source": [
    "class EightQueensGeneticAlgorithm:\n",
    "\n",
    "    def __init__(self, initial_population_size=10, number_queens=8, mutation_rate=0.05):\n",
    "        self.initial_population_size = initial_population_size\n",
    "        self.number_queens = number_queens\n",
    "        self.mutation_rate = mutation_rate\n",
    "        self.initial_population = [EightQueensState(n=number_queens) for _ in range(self.initial_population_size)]\n",
    "        self.population_states = [state.state for state in self.initial_population]\n",
    "\n",
    "    def fitness_function(self, population):\n",
    "        fitness_array = [((self.number_queens * (self.number_queens - 1)) / 2) - state.cost() for state in population]\n",
    "        fitness_array = np.array(fitness_array)\n",
    "        fitness_array = fitness_array/sum(fitness_array)\n",
    "        return fitness_array\n",
    "\n",
    "    def parent_selection(self, population_states, fitness_array):\n",
    "        # mixing number = 2, ie. offspring from exactly 2 parents\n",
    "        # parents are only selected from 50% of fittest individuals\n",
    "        parent_list = []\n",
    "        d = {\"population\": population_states, \"fitness\": fitness_array}\n",
    "        df = pd.DataFrame(d)\n",
    "        df.sort_values(by=[\"fitness\"], inplace=True, ascending=False)\n",
    "        df.reset_index(drop=True, inplace=True)\n",
    "        n = int(np.ceil(len(df)) / 2)\n",
    "        fittest_population = df.head(n)\n",
    "        relative_fitness = np.array(fittest_population[\"fitness\"])\n",
    "        relative_fitness = relative_fitness/sum(relative_fitness)\n",
    "        while len(parent_list) < np.ceil(len(population_states) / 2):\n",
    "            parent_list.append(np.random.choice(fittest_population[\"population\"], \n",
    "                                                size=2, replace=False, p=list(relative_fitness)))\n",
    "        return parent_list\n",
    "\n",
    "    def crossover(self, parent_list):\n",
    "        # each set of parents has 2 offspring to keep population constant\n",
    "        child_list = []\n",
    "        for parents in parent_list:\n",
    "            partition_point = random.randint(1, len(parents[0]) - 1)\n",
    "            child_1 = np.concatenate((parents[0][0:partition_point], parents[1][partition_point:]))\n",
    "            child_2 = np.concatenate((parents[1][0:partition_point], parents[0][partition_point:]))\n",
    "            child_list.append(child_1)\n",
    "            child_list.append(child_2)\n",
    "        return child_list\n",
    "\n",
    "    def mutate(self, child_list):\n",
    "        mutated_list = []\n",
    "        for child in child_list:\n",
    "            post_mutation_child = []\n",
    "            for gene in child:\n",
    "                if random.choices([0, 1], weights=[1-self.mutation_rate, self.mutation_rate])[0] == 1:\n",
    "                    post_mutation_child.append(random.randint(0, self.number_queens-1))\n",
    "                else:\n",
    "                    post_mutation_child.append(gene)\n",
    "            mutated_list.append(post_mutation_child)\n",
    "        return mutated_list\n",
    "\n",
    "    def next_generation(self, mutated_list):\n",
    "        next_generation = [EightQueensState(state=np.array(child)) for child in mutated_list]\n",
    "        return next_generation"
   ]
  },
  {
   "cell_type": "markdown",
   "id": "87d9555c",
   "metadata": {},
   "source": [
    "### Run Genetic Algorithm to solve 8 queens problem\n",
    "\n",
    "The code below runs the genetic algorithm for up to 2000 generations or until a solution is found. The code outputs the solution if found along with a graph showing the average population fitness in each generation to show how this increases over time.\n",
    "\n",
    "Random seeds are set to 1 but these lines can be deleted to run the algorithm on a random population."
   ]
  },
  {
   "cell_type": "code",
   "execution_count": 4,
   "id": "64e0c44c",
   "metadata": {},
   "outputs": [],
   "source": [
    "def run_genetic_algorithm(ga, max_generations):\n",
    "    generation_count = 1\n",
    "    average_fitness_list = []\n",
    "    while generation_count < max_generations:\n",
    "        fitness_list = []\n",
    "        for state in ga.initial_population:\n",
    "            if state.cost() == 0:\n",
    "                return state.state, state.cost(), generation_count, average_fitness_list\n",
    "            else:\n",
    "                fitness_list.append((ga.number_queens * (ga.number_queens - 1) / 2) - state.cost())\n",
    "        average_fitness_list.append(np.mean(fitness_list))\n",
    "        population_fitness = ga.fitness_function(ga.initial_population)\n",
    "        parents = ga.parent_selection(ga.population_states, population_fitness)\n",
    "        children = ga.crossover(parents)\n",
    "        children = ga.mutate(children)\n",
    "        next_gen = ga.next_generation(children)\n",
    "        ga.initial_population = next_gen\n",
    "        ga.population_states = [state.state for state in next_gen]\n",
    "        generation_count += 1\n",
    "    return \"No solution found\", \"No solution found\", generation_count, average_fitness_list"
   ]
  },
  {
   "cell_type": "code",
   "execution_count": 5,
   "id": "8887bd9e",
   "metadata": {},
   "outputs": [
    {
     "name": "stdout",
     "output_type": "stream",
     "text": [
      "Solution state = [3 1 6 4 0 7 5 2]\n",
      "Solution cost (pairs of attacking queens) = 0\n",
      "Number of generations = 265\n"
     ]
    },
    {
     "data": {
      "image/png": "[encoded data removed]",
      "text/plain": [
       "<Figure size 432x288 with 1 Axes>"
      ]
     },
     "metadata": {
      "needs_background": "light"
     },
     "output_type": "display_data"
    }
   ],
   "source": [
    "random.seed(1)\n",
    "np.random.seed(1)\n",
    "\n",
    "ga = EightQueensGeneticAlgorithm()\n",
    "solution_state, cost, generation_count, average_fitness_list = run_genetic_algorithm(ga, 2000)\n",
    "print(f\"Solution state = {solution_state}\")\n",
    "print(f\"Solution cost (pairs of attacking queens) = {cost}\")\n",
    "print(f\"Number of generations = {generation_count}\")\n",
    "plt.plot([n for n in range(1, generation_count)], average_fitness_list)\n",
    "plt.ylabel(\"Average fitness per generation (max 28)\")\n",
    "plt.xlabel(\"Generation\")\n",
    "plt.show()"
   ]
  },
  {
   "cell_type": "markdown",
   "id": "fdb082be",
   "metadata": {},
   "source": [
    "## Optimisations and Extensions"
   ]
  },
  {
   "cell_type": "markdown",
   "id": "86807fcb",
   "metadata": {},
   "source": [
    "### Variable Optimisation - Mutation Rate\n",
    "\n",
    "The code below runs 20 simulations (starting with a random population each time) of the Genetic Algorithm for various mutation rates, holding population size constant. The mutation rate starts at 0% and increases to 100% in increments of 5%, with the results plotted."
   ]
  },
  {
   "cell_type": "code",
   "execution_count": 6,
   "id": "d70646e1",
   "metadata": {},
   "outputs": [],
   "source": [
    "def mutation_rate_tester(population_size, max_generations, simulations):\n",
    "    mutation_rate = 0.00\n",
    "    mutation_rate_list = []\n",
    "    average_time_list = []\n",
    "    setup_code = \"\"\"\n",
    "import numpy as np\n",
    "import random\n",
    "import pandas as pd\n",
    "from __main__ import run_genetic_algorithm\n",
    "from __main__ import EightQueensGeneticAlgorithm\"\"\"\n",
    "    while mutation_rate <= 1:\n",
    "        test_code = f\"run_genetic_algorithm(EightQueensGeneticAlgorithm(initial_population_size={population_size}, mutation_rate={mutation_rate}), {max_generations})\"\n",
    "        time = timeit.timeit(setup=setup_code, stmt=test_code, number=simulations)\n",
    "        average_time = time/simulations\n",
    "        average_time_list.append(average_time)\n",
    "        mutation_rate_list.append(mutation_rate)\n",
    "        mutation_rate += 0.05\n",
    "    return mutation_rate_list, average_time_list"
   ]
  },
  {
   "cell_type": "code",
   "execution_count": 7,
   "id": "657ebf56",
   "metadata": {},
   "outputs": [
    {
     "data": {
      "image/png": "[encoded data removed]",
      "text/plain": [
       "<Figure size 432x288 with 1 Axes>"
      ]
     },
     "metadata": {
      "needs_background": "light"
     },
     "output_type": "display_data"
    }
   ],
   "source": [
    "mutation_rate_list, average_time_list = mutation_rate_tester(10, 2000, 20)\n",
    "plt.plot(mutation_rate_list, average_time_list)\n",
    "plt.ylabel(\"Average time to solve (seconds)\")\n",
    "plt.xlabel(\"Mutation rate\")\n",
    "plt.show()"
   ]
  },
  {
   "cell_type": "markdown",
   "id": "14670acc",
   "metadata": {},
   "source": [
    "### Variable Optimisation - Population Size\n",
    "\n",
    "A similar process is followed for population size, holding mutation rate constant at 10% (the optimal value shown in the graph above)."
   ]
  },
  {
   "cell_type": "code",
   "execution_count": 8,
   "id": "cc6f74b5",
   "metadata": {},
   "outputs": [],
   "source": [
    "def population_size_tester(mutation_rate, max_generations, simulations):\n",
    "    population_size = 5\n",
    "    population_size_list = []\n",
    "    average_time_list = []\n",
    "    setup_code = \"\"\"\n",
    "import numpy as np\n",
    "import random\n",
    "import pandas as pd\n",
    "from __main__ import run_genetic_algorithm\n",
    "from __main__ import EightQueensGeneticAlgorithm\"\"\"\n",
    "    while population_size <= 100:\n",
    "        test_code = f\"run_genetic_algorithm(EightQueensGeneticAlgorithm(initial_population_size={population_size}, mutation_rate={mutation_rate}), {max_generations})\"\n",
    "        time = timeit.timeit(setup=setup_code, stmt=test_code, number=simulations)\n",
    "        average_time = time/simulations\n",
    "        average_time_list.append(average_time)\n",
    "        population_size_list.append(population_size)\n",
    "        population_size += 5\n",
    "    return population_size_list, average_time_list"
   ]
  },
  {
   "cell_type": "code",
   "execution_count": 16,
   "id": "a2a98529",
   "metadata": {},
   "outputs": [
    {
     "data": {
      "image/png": "[encoded data removed]",
      "text/plain": [
       "<Figure size 432x288 with 1 Axes>"
      ]
     },
     "metadata": {
      "needs_background": "light"
     },
     "output_type": "display_data"
    }
   ],
   "source": [
    "population_size_list, average_time_list = population_size_tester(0.1, 2000, 20)\n",
    "plt.plot(population_size_list, average_time_list)\n",
    "plt.ylabel(\"Average time to solve (seconds)\")\n",
    "plt.xlabel(\"Population size\")\n",
    "plt.show()"
   ]
  },
  {
   "cell_type": "markdown",
   "id": "7162a9a0",
   "metadata": {},
   "source": [
    "These results show that a mutation rate of 10% and population of 10 give the lowest average time to solve the problem. Therefore these values will be used going forward."
   ]
  },
  {
   "cell_type": "markdown",
   "id": "5b212e5d",
   "metadata": {},
   "source": [
    "### Minimal conflicts algorithm and Extension to N Queens\n",
    "\n",
    "First, setting up the minimal conflicts genetic algorithm and comparing this with the standard genetic algorithm for the case of 8 queens:"
   ]
  },
  {
   "cell_type": "code",
   "execution_count": 10,
   "id": "0ee19392",
   "metadata": {},
   "outputs": [],
   "source": [
    "def minimal_conflicts(next_generation_list):\n",
    "    updated_next_generation_list = []\n",
    "    for child in next_generation_list:\n",
    "        neighbourhood = child.neighbourhood()\n",
    "        fittest_state = child\n",
    "        for state in neighbourhood:\n",
    "            if state.cost() < fittest_state.cost():\n",
    "                fittest_state = state\n",
    "        updated_next_generation_list.append(fittest_state)\n",
    "    return updated_next_generation_list\n",
    "\n",
    "\n",
    "def run_ga_min_conflicts(ga, max_generations):\n",
    "    generation_count = 1\n",
    "    average_fitness_list = []\n",
    "    while generation_count < max_generations:\n",
    "        fitness_list = []\n",
    "        for state in ga.initial_population:\n",
    "            if state.cost() == 0:\n",
    "                return state.state, state.cost(), generation_count, average_fitness_list\n",
    "            else:\n",
    "                fitness_list.append((ga.number_queens * (ga.number_queens - 1) / 2) - state.cost())\n",
    "        average_fitness_list.append(np.mean(fitness_list))\n",
    "        population_fitness = ga.fitness_function(ga.initial_population)\n",
    "        parents = ga.parent_selection(ga.population_states, population_fitness)\n",
    "        children = ga.crossover(parents)\n",
    "        children = ga.mutate(children)\n",
    "        next_gen = ga.next_generation(children)\n",
    "        min_conflicts_next_gen = minimal_conflicts(next_gen)\n",
    "        ga.initial_population = min_conflicts_next_gen\n",
    "        ga.population_states = [state.state for state in min_conflicts_next_gen]\n",
    "        generation_count += 1\n",
    "    return \"No solution found\", \"No solution found\", generation_count, average_fitness_list\n",
    "\n",
    "\n",
    "def algorithm_comparison(population_size, mutation_rate, max_generations, simulations):\n",
    "    setup_code = \"\"\"\n",
    "import numpy as np\n",
    "import random\n",
    "import pandas as pd\n",
    "from __main__ import run_genetic_algorithm\n",
    "from __main__ import minimal_conflicts\n",
    "from __main__ import run_ga_min_conflicts\n",
    "from __main__ import EightQueensGeneticAlgorithm\"\"\"\n",
    "    test_code_1 = f\"run_genetic_algorithm(EightQueensGeneticAlgorithm(initial_population_size={population_size}, mutation_rate={mutation_rate}), {max_generations})\"\n",
    "    time1 = timeit.timeit(setup=setup_code, stmt=test_code_1, number=simulations)\n",
    "    average_time1 = time1/simulations\n",
    "    test_code_2 = f\"run_ga_min_conflicts(EightQueensGeneticAlgorithm(initial_population_size={population_size}, mutation_rate={mutation_rate}), {max_generations})\"\n",
    "    time2 = timeit.timeit(setup=setup_code, stmt=test_code_2, number=simulations)\n",
    "    average_time2 = time2/simulations\n",
    "    return average_time1, average_time2"
   ]
  },
  {
   "cell_type": "code",
   "execution_count": 17,
   "id": "67ed9271",
   "metadata": {},
   "outputs": [
    {
     "name": "stdout",
     "output_type": "stream",
     "text": [
      "Genetic Algorithm - Average time to find a solution = 0.9501775109999926 seconds\n",
      "Genetic Algorithm plus minimum conflicts - Average time to find a solution = 3.5728948820000004 seconds\n"
     ]
    }
   ],
   "source": [
    "random.seed(2)\n",
    "np.random.seed(2)\n",
    "\n",
    "ga_time, ga_min_conflicts_time = algorithm_comparison(10, 0.1, 2000, 100)\n",
    "print(f\"Genetic Algorithm - Average time to find a solution = {ga_time} seconds\")\n",
    "print(f\"Genetic Algorithm plus minimum conflicts - Average time to find a solution = {ga_min_conflicts_time} seconds\")"
   ]
  },
  {
   "cell_type": "markdown",
   "id": "767d7d6a",
   "metadata": {},
   "source": [
    "From this result, it seems as though the added time required to run the min_conflicts code increases the time taken to find a solution. However, this code becomes useful when extending the problem to the case of >8 queens.\n",
    "\n",
    "Trialling both algorithms for different values of N in the N queens problem to give a side-by-side comparison."
   ]
  },
  {
   "cell_type": "code",
   "execution_count": 18,
   "id": "c4792f61",
   "metadata": {},
   "outputs": [],
   "source": [
    "def algorithm_comparison_n_queens(number_queens, population_size, mutation_rate, max_generations):\n",
    "    ga_solution, ga_cost, ga_generation_count, ga_average_fitness_list = run_genetic_algorithm(EightQueensGeneticAlgorithm(initial_population_size=population_size, number_queens=number_queens, mutation_rate=mutation_rate), max_generations)\n",
    "    ga_min_conflicts_solution, ga_min_conflicts_cost, ga_min_conflicts_generation_count, ga_min_conflicts_average_fitness_list = run_ga_min_conflicts(EightQueensGeneticAlgorithm(initial_population_size=population_size, number_queens=number_queens, mutation_rate=mutation_rate), max_generations)\n",
    "    setup_code = \"\"\"\n",
    "import numpy as np\n",
    "import random\n",
    "import pandas as pd\n",
    "from __main__ import run_genetic_algorithm\n",
    "from __main__ import minimal_conflicts\n",
    "from __main__ import run_ga_min_conflicts\n",
    "from __main__ import EightQueensGeneticAlgorithm\"\"\"\n",
    "    test_code_1 = f\"run_genetic_algorithm(EightQueensGeneticAlgorithm(initial_population_size={population_size}, number_queens={number_queens}, mutation_rate={mutation_rate}), {max_generations})\"\n",
    "    ga_time = timeit.timeit(setup=setup_code, stmt=test_code_1, number=1)\n",
    "    test_code_2 = f\"run_ga_min_conflicts(EightQueensGeneticAlgorithm(initial_population_size={population_size}, number_queens={number_queens}, mutation_rate={mutation_rate}), {max_generations})\"\n",
    "    ga_min_conflicts_time = timeit.timeit(setup=setup_code, stmt=test_code_2, number=1)\n",
    "    return number_queens, ga_solution, ga_min_conflicts_solution, ga_time, ga_min_conflicts_time"
   ]
  },
  {
   "cell_type": "code",
   "execution_count": 20,
   "id": "eed33e66",
   "metadata": {},
   "outputs": [
    {
     "data": {
      "text/html": [
       "<div>\n",
       "<style scoped>\n",
       "    .dataframe tbody tr th:only-of-type {\n",
       "        vertical-align: middle;\n",
       "    }\n",
       "\n",
       "    .dataframe tbody tr th {\n",
       "        vertical-align: top;\n",
       "    }\n",
       "\n",
       "    .dataframe thead th {\n",
       "        text-align: right;\n",
       "    }\n",
       "</style>\n",
       "<table border=\"1\" class=\"dataframe\">\n",
       "  <thead>\n",
       "    <tr style=\"text-align: right;\">\n",
       "      <th></th>\n",
       "      <th>Number of queens</th>\n",
       "      <th>GA solution</th>\n",
       "      <th>GA + min conflicts solution</th>\n",
       "      <th>GA time (seconds)</th>\n",
       "      <th>GA + min conflicts time (seconds)</th>\n",
       "    </tr>\n",
       "  </thead>\n",
       "  <tbody>\n",
       "    <tr>\n",
       "      <th>0</th>\n",
       "      <td>4</td>\n",
       "      <td>[2, 0, 3, 1]</td>\n",
       "      <td>[2, 0, 3, 1]</td>\n",
       "      <td>0.019599</td>\n",
       "      <td>0.013649</td>\n",
       "    </tr>\n",
       "    <tr>\n",
       "      <th>1</th>\n",
       "      <td>5</td>\n",
       "      <td>[4, 2, 0, 3, 1]</td>\n",
       "      <td>[2, 4, 1, 3, 0]</td>\n",
       "      <td>0.026620</td>\n",
       "      <td>0.056507</td>\n",
       "    </tr>\n",
       "    <tr>\n",
       "      <th>2</th>\n",
       "      <td>6</td>\n",
       "      <td>[1, 3, 5, 0, 2, 4]</td>\n",
       "      <td>[3, 0, 4, 1, 5, 2]</td>\n",
       "      <td>5.074497</td>\n",
       "      <td>0.099375</td>\n",
       "    </tr>\n",
       "    <tr>\n",
       "      <th>3</th>\n",
       "      <td>7</td>\n",
       "      <td>[5, 1, 4, 0, 3, 6, 2]</td>\n",
       "      <td>[0, 3, 6, 2, 5, 1, 4]</td>\n",
       "      <td>0.047681</td>\n",
       "      <td>0.403888</td>\n",
       "    </tr>\n",
       "    <tr>\n",
       "      <th>4</th>\n",
       "      <td>8</td>\n",
       "      <td>[4, 2, 0, 5, 7, 1, 3, 6]</td>\n",
       "      <td>[4, 1, 3, 6, 2, 7, 5, 0]</td>\n",
       "      <td>0.419696</td>\n",
       "      <td>13.206275</td>\n",
       "    </tr>\n",
       "    <tr>\n",
       "      <th>5</th>\n",
       "      <td>9</td>\n",
       "      <td>[4, 2, 7, 5, 1, 8, 0, 3, 6]</td>\n",
       "      <td>[6, 1, 3, 5, 0, 8, 4, 2, 7]</td>\n",
       "      <td>1.846944</td>\n",
       "      <td>7.889747</td>\n",
       "    </tr>\n",
       "    <tr>\n",
       "      <th>6</th>\n",
       "      <td>10</td>\n",
       "      <td>[4, 6, 0, 3, 5, 8, 2, 9, 7, 1]</td>\n",
       "      <td>[5, 1, 9, 0, 6, 3, 7, 2, 4, 8]</td>\n",
       "      <td>8.128973</td>\n",
       "      <td>2.505483</td>\n",
       "    </tr>\n",
       "    <tr>\n",
       "      <th>7</th>\n",
       "      <td>11</td>\n",
       "      <td>No solution found</td>\n",
       "      <td>[5, 9, 4, 1, 8, 6, 2, 10, 7, 0, 3]</td>\n",
       "      <td>7.070955</td>\n",
       "      <td>6.384094</td>\n",
       "    </tr>\n",
       "    <tr>\n",
       "      <th>8</th>\n",
       "      <td>12</td>\n",
       "      <td>No solution found</td>\n",
       "      <td>[5, 2, 11, 3, 8, 4, 9, 1, 10, 7, 0, 6]</td>\n",
       "      <td>37.645042</td>\n",
       "      <td>45.170720</td>\n",
       "    </tr>\n",
       "    <tr>\n",
       "      <th>9</th>\n",
       "      <td>13</td>\n",
       "      <td>No solution found</td>\n",
       "      <td>[10, 5, 11, 8, 0, 2, 9, 7, 1, 3, 12, 6, 4]</td>\n",
       "      <td>67.732579</td>\n",
       "      <td>13.116163</td>\n",
       "    </tr>\n",
       "    <tr>\n",
       "      <th>10</th>\n",
       "      <td>14</td>\n",
       "      <td>No solution found</td>\n",
       "      <td>[5, 1, 8, 11, 2, 7, 3, 0, 12, 4, 13, 10, 6, 9]</td>\n",
       "      <td>73.495485</td>\n",
       "      <td>16.547245</td>\n",
       "    </tr>\n",
       "    <tr>\n",
       "      <th>11</th>\n",
       "      <td>15</td>\n",
       "      <td>No solution found</td>\n",
       "      <td>[9, 2, 14, 8, 1, 7, 4, 0, 11, 13, 5, 3, 6, 12,...</td>\n",
       "      <td>77.391127</td>\n",
       "      <td>33.735202</td>\n",
       "    </tr>\n",
       "  </tbody>\n",
       "</table>\n",
       "</div>"
      ],
      "text/plain": [
       "   Number of queens                     GA solution  \\\n",
       "0                 4                    [2, 0, 3, 1]   \n",
       "1                 5                 [4, 2, 0, 3, 1]   \n",
       "2                 6              [1, 3, 5, 0, 2, 4]   \n",
       "3                 7           [5, 1, 4, 0, 3, 6, 2]   \n",
       "4                 8        [4, 2, 0, 5, 7, 1, 3, 6]   \n",
       "5                 9     [4, 2, 7, 5, 1, 8, 0, 3, 6]   \n",
       "6                10  [4, 6, 0, 3, 5, 8, 2, 9, 7, 1]   \n",
       "7                11               No solution found   \n",
       "8                12               No solution found   \n",
       "9                13               No solution found   \n",
       "10               14               No solution found   \n",
       "11               15               No solution found   \n",
       "\n",
       "                          GA + min conflicts solution  GA time (seconds)  \\\n",
       "0                                        [2, 0, 3, 1]           0.019599   \n",
       "1                                     [2, 4, 1, 3, 0]           0.026620   \n",
       "2                                  [3, 0, 4, 1, 5, 2]           5.074497   \n",
       "3                               [0, 3, 6, 2, 5, 1, 4]           0.047681   \n",
       "4                            [4, 1, 3, 6, 2, 7, 5, 0]           0.419696   \n",
       "5                         [6, 1, 3, 5, 0, 8, 4, 2, 7]           1.846944   \n",
       "6                      [5, 1, 9, 0, 6, 3, 7, 2, 4, 8]           8.128973   \n",
       "7                  [5, 9, 4, 1, 8, 6, 2, 10, 7, 0, 3]           7.070955   \n",
       "8              [5, 2, 11, 3, 8, 4, 9, 1, 10, 7, 0, 6]          37.645042   \n",
       "9          [10, 5, 11, 8, 0, 2, 9, 7, 1, 3, 12, 6, 4]          67.732579   \n",
       "10     [5, 1, 8, 11, 2, 7, 3, 0, 12, 4, 13, 10, 6, 9]          73.495485   \n",
       "11  [9, 2, 14, 8, 1, 7, 4, 0, 11, 13, 5, 3, 6, 12,...          77.391127   \n",
       "\n",
       "    GA + min conflicts time (seconds)  \n",
       "0                            0.013649  \n",
       "1                            0.056507  \n",
       "2                            0.099375  \n",
       "3                            0.403888  \n",
       "4                           13.206275  \n",
       "5                            7.889747  \n",
       "6                            2.505483  \n",
       "7                            6.384094  \n",
       "8                           45.170720  \n",
       "9                           13.116163  \n",
       "10                          16.547245  \n",
       "11                          33.735202  "
      ]
     },
     "execution_count": 20,
     "metadata": {},
     "output_type": "execute_result"
    }
   ],
   "source": [
    "random.seed(3)\n",
    "np.random.seed(3)\n",
    "\n",
    "result_df = pd.DataFrame(columns=[\"Number of queens\", \"GA solution\", \"GA + min conflicts solution\", \"GA time (seconds)\", \"GA + min conflicts time (seconds)\"])\n",
    "for i in range(4, 16):\n",
    "    number_queens, ga_solution, ga_min_conflicts_solution, ga_time, ga_min_conflicts_time = algorithm_comparison_n_queens(i, 10, 0.1, 10000)\n",
    "    row = pd.Series([number_queens, ga_solution, ga_min_conflicts_solution, ga_time, ga_min_conflicts_time], index=result_df.columns)\n",
    "    result_df = result_df.append(row, ignore_index=True)\n",
    "    \n",
    "result_df"
   ]
  }
 ],
 "metadata": {
  "kernelspec": {
   "display_name": "Python 3",
   "language": "python",
   "name": "python3"
  },
  "language_info": {
   "codemirror_mode": {
    "name": "ipython",
    "version": 3
   },
   "file_extension": ".py",
   "mimetype": "text/x-python",
   "name": "python",
   "nbconvert_exporter": "python",
   "pygments_lexer": "ipython3",
   "version": "3.8.8"
  }
 },
 "nbformat": 4,
 "nbformat_minor": 5
}
